{
 "cells": [
  {
   "cell_type": "markdown",
   "metadata": {},
   "source": [
    "# Face Detection \n",
    "\n",
    "## Based on Haar Cascade Classifier\n",
    "\n",
    "related paper ( Rapid Object Detection using a Boosted Cascade of Simple Features ) is available, Written by Paul Viola"
   ]
  },
  {
   "cell_type": "markdown",
   "metadata": {},
   "source": [
    "### The algorithm appears in four stage:\n",
    "\n",
    "1 - Calculating Haar Features <br>\n",
    "2 - Creating Integral Images <br> \n",
    "3 - Using Adaboost <br> \n",
    "4 - Implementing Cascading Classifiers <br> \n",
    "<br>\n",
    "This algorithm requires a lot of positive and negative image of faces and non-faces.<br>\n",
    "(where positive images are those where the object to be detected is present, negative are those where it is not)"
   ]
  },
  {
   "cell_type": "markdown",
   "metadata": {},
   "source": [
    "### Bad Features\n",
    "using different of intensities and look at edges on image. <br>\n",
    "It is costly operation, for example for an 24*24 image we have 160,000. <br>\n",
    "In this paper, the author use an efficient alternative."
   ]
  },
  {
   "cell_type": "markdown",
   "metadata": {},
   "source": [
    "### Calculating Haar Features\n",
    "\n",
    "The first step is to collect Haar features. <br> \n",
    "\n",
    "calculation involves summing the pixel intensities in each region and <br>\n",
    "and calculating the differences between the sums. "
   ]
  },
  {
   "attachments": {
    "1.png": {
     "image/png": "[encoded data removed]"
    }
   },
   "cell_type": "markdown",
   "metadata": {},
   "source": [
    "![1.png](attachment:1.png)"
   ]
  },
  {
   "cell_type": "markdown",
   "metadata": {},
   "source": [
    "These features can be difficult to determine for a large image. So using integral images is essential. "
   ]
  },
  {
   "cell_type": "markdown",
   "metadata": {},
   "source": [
    "### Creating Integral Images\n",
    "\n",
    "integral images essentially speed up the calculation of these Haar Features. ( details on paper ) <br> \n",
    "Instead of computing at every pixel, it instead creates sub-rectangles and creates array refrences for each of those sub-rectangles. <br> "
   ]
  },
  {
   "attachments": {
    "int_fig2.png": {
     "image/png": "[encoded data removed]"
    }
   },
   "cell_type": "markdown",
   "metadata": {},
   "source": [
    "![int_fig2.png](attachment:int_fig2.png)"
   ]
  },
  {
   "cell_type": "markdown",
   "metadata": {},
   "source": [
    "### Using AdaBoost to Speed Up\n",
    "\n",
    "In the paper with Haar Features we can use just 200 feature and <br>\n",
    "and get the accuracy of 95% for the mentioned classifier. <br>\n",
    "By combining number of lazy classifiers, we can get a strong classifier.<br>\n",
    "For example in an 24*24 image, with different of intensities we have <br>\n",
    "we have 160,000 features, but in the paper by using integral images and <br>\n",
    "and AdaBoost, we can get a strong classifier with 95% accuracy."
   ]
  },
  {
   "cell_type": "markdown",
   "metadata": {},
   "source": [
    "### Code"
   ]
  },
  {
   "cell_type": "markdown",
   "metadata": {},
   "source": [
    "OpenCV offers pre-trained Haar cascade algorithms, organized into categories (faces, eyes and so forth), depending on the images they have been trained on.\n",
    "\n"
   ]
  },
  {
   "cell_type": "code",
   "execution_count": null,
   "metadata": {},
   "outputs": [],
   "source": [
    "# import requirements\n",
    "import cv2\n",
    "import numpy as np"
   ]
  },
  {
   "cell_type": "code",
   "execution_count": null,
   "metadata": {},
   "outputs": [],
   "source": [
    "# Load xml files and video capture\n",
    "cap = cv2.VideoCapture(0)\n",
    "# Need to load cascade xm5 detection\n",
    "face_cascade = cv2.CascadeClassifier(\"haarcascade_frontalface_default.xml\")\n",
    "cv2.namedWindow(\"Frame\")"
   ]
  },
  {
   "cell_type": "code",
   "execution_count": null,
   "metadata": {},
   "outputs": [],
   "source": [
    "def nothing(x):\n",
    "    pass\n",
    "\n",
    "while True: \n",
    "\n",
    "    flag, frame = cap.read()\n",
    "    gray = cv2.cvtColor(frame, cv2.COLOR_BGR2GRAY)\n",
    "\n",
    "\n",
    "    # gray image, 1 size original size, 5 \n",
    "    faces = face_cascade.detectMultiScale(gray, 1.3, 5)\n",
    "    for rect in faces:\n",
    "        (x, y, w, h) = rect\n",
    "        frame = cv2.rectangle(frame, (x, y), (x + w, y + h), (0, 255, 0), 2)\n",
    "    \n",
    "    print(faces)\n",
    "\n",
    "    cv2.imshow(\"Frame\", frame) \n",
    "\n",
    "    key = cv2.waitKey(1)\n",
    "    if key == 27:\n",
    "        break\n",
    "\n",
    "cap.release()\n",
    "cv2.destroyAllWindows()"
   ]
  },
  {
   "cell_type": "markdown",
   "metadata": {},
   "source": []
  },
  {
   "cell_type": "markdown",
   "metadata": {},
   "source": []
  },
  {
   "cell_type": "markdown",
   "metadata": {},
   "source": []
  },
  {
   "cell_type": "markdown",
   "metadata": {},
   "source": []
  },
  {
   "cell_type": "markdown",
   "metadata": {},
   "source": []
  }
 ],
 "metadata": {
  "kernelspec": {
   "display_name": "Python 3 (ipykernel)",
   "language": "python",
   "name": "python3"
  },
  "language_info": {
   "codemirror_mode": {
    "name": "ipython",
    "version": 3
   },
   "file_extension": ".py",
   "mimetype": "text/x-python",
   "name": "python",
   "nbconvert_exporter": "python",
   "pygments_lexer": "ipython3",
   "version": "3.7.16"
  }
 },
 "nbformat": 4,
 "nbformat_minor": 4
}
