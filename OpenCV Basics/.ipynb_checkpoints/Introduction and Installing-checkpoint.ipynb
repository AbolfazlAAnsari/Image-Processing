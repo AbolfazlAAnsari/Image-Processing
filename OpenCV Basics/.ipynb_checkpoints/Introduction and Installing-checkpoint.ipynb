{
 "cells": [
  {
   "cell_type": "markdown",
   "id": "64e3f45f",
   "metadata": {},
   "source": [
    "# Application\n",
    "\n",
    "\n",
    "Computer Vision and Image Processing allow computer to see and understand the images and videos. such as self-driving cars"
   ]
  },
  {
   "cell_type": "markdown",
   "id": "45f256d6",
   "metadata": {},
   "source": [
    "# OpenCV \n",
    "OpenCV is an image processing library created by Intel\n",
    "Easy to use and install"
   ]
  },
  {
   "cell_type": "markdown",
   "id": "e4a53677",
   "metadata": {},
   "source": [
    "\n",
    "# Analog vs Digital\n",
    "\n",
    "We should change the Analog pictures to Digital ones. <br>\n",
    "Because machines are capable to execute on discrete type of data. <br>\n",
    "In other words, Digital Image is an approximation of Analog scene. <br> \n",
    "One of data structures we can use is Matrix. <br>\n"
   ]
  },
  {
   "cell_type": "markdown",
   "id": "b1c9c8d8",
   "metadata": {},
   "source": [
    "# Image vs Matrix\n",
    "\n",
    "Each image can represent by a matrix and it includes Pixels. <br>\n",
    "Acturally Pixels are elements of Matrix so we can use matrix operators on our image as well."
   ]
  },
  {
   "cell_type": "markdown",
   "id": "a023fd36",
   "metadata": {},
   "source": [
    "# Type of Images\n",
    "\n",
    "Binary Images: each pixel can be one or zero. <br>\n",
    "Monochrome Images ( ex grayscale ): each pixel can be one color with specific intensity. <br>\n",
    "Color Images: Each image can includes different matrixes with different colors. ( ex RGB Models )"
   ]
  },
  {
   "cell_type": "markdown",
   "id": "62a97a43",
   "metadata": {},
   "source": [
    "# OpenCV Dependency\n",
    "\n",
    "Numpy library is a must-have library for using OpenCV"
   ]
  },
  {
   "cell_type": "markdown",
   "id": "33482f90",
   "metadata": {},
   "source": [
    "# Install OpenCV\n",
    "We assume you have installed Python before. <br>\n",
    "We assume your operating system is Linux-Ubuntu. <br>\n",
    "In order to install OpenCV using: <br>\n",
    "\n",
    "<i> conda install opencv<br> </i>\n",
    "verify your installing by importing cv2"
   ]
  },
  {
   "cell_type": "code",
   "execution_count": 4,
   "id": "ac095f05",
   "metadata": {},
   "outputs": [],
   "source": [
    "# !pip install opencv-python"
   ]
  },
  {
   "cell_type": "code",
   "execution_count": 5,
   "id": "ecd7bca4",
   "metadata": {},
   "outputs": [],
   "source": [
    "import cv2"
   ]
  },
  {
   "cell_type": "code",
   "execution_count": 6,
   "id": "08bb4c7d",
   "metadata": {},
   "outputs": [
    {
     "data": {
      "text/plain": [
       "'4.7.0'"
      ]
     },
     "execution_count": 6,
     "metadata": {},
     "output_type": "execute_result"
    }
   ],
   "source": [
    "cv2.__version__"
   ]
  }
 ],
 "metadata": {
  "kernelspec": {
   "display_name": "Python 3 (ipykernel)",
   "language": "python",
   "name": "python3"
  },
  "language_info": {
   "codemirror_mode": {
    "name": "ipython",
    "version": 3
   },
   "file_extension": ".py",
   "mimetype": "text/x-python",
   "name": "python",
   "nbconvert_exporter": "python",
   "pygments_lexer": "ipython3",
   "version": "3.7.16"
  }
 },
 "nbformat": 4,
 "nbformat_minor": 5
}
