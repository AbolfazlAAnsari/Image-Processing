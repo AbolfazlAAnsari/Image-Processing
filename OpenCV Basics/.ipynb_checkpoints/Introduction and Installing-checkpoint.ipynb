{
 "cells": [
  {
   "cell_type": "markdown",
   "id": "0231a6c9",
   "metadata": {},
   "source": [
    "# Application\n",
    "\n",
    "\n",
    "Computer Vision and Image Processing allow computer to see and understand the images and videos. such as self-driving cars"
   ]
  },
  {
   "cell_type": "markdown",
   "id": "35446c2a",
   "metadata": {},
   "source": [
    "# OpenCV \n",
    "OpenCV is an image processing library created by Intel\n",
    "Easy to use and install"
   ]
  },
  {
   "cell_type": "markdown",
   "id": "7ecfa483",
   "metadata": {},
   "source": [
    "We should change the Analog pictures to Digital ones. \n",
    "Because machines are capable to execute on discrete type of data.\n",
    "In other words, Digital Image is an approximation of Analog scene.\n"
   ]
  },
  {
   "cell_type": "code",
   "execution_count": null,
   "id": "9c0b6bf3",
   "metadata": {},
   "outputs": [],
   "source": []
  }
 ],
 "metadata": {
  "kernelspec": {
   "display_name": "Python 3 (ipykernel)",
   "language": "python",
   "name": "python3"
  },
  "language_info": {
   "codemirror_mode": {
    "name": "ipython",
    "version": 3
   },
   "file_extension": ".py",
   "mimetype": "text/x-python",
   "name": "python",
   "nbconvert_exporter": "python",
   "pygments_lexer": "ipython3",
   "version": "3.7.15"
  }
 },
 "nbformat": 4,
 "nbformat_minor": 5
}
