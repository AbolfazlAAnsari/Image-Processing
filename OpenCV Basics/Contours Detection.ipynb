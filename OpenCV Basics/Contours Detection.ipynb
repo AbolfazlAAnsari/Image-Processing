{
 "cells": [
  {
   "cell_type": "markdown",
   "id": "7e65201a",
   "metadata": {},
   "source": [
    "### Contours Detection\n",
    "\n",
    "Contours are like the Edges, but there are some differences.<br>\n",
    "Both techniques are used for determining structural outlines of an object. <br>\n",
    "Edge detection just gives points where image intensity changes drastically.<br>\n",
    "It may or may not form a closed shape. <br>The main objective of contour detection is find a closed shape and draw the boundary of the object"
   ]
  },
  {
   "cell_type": "code",
   "execution_count": null,
   "id": "c2b67ab6",
   "metadata": {},
   "outputs": [],
   "source": [
    "# import requirement\n",
    "import cv2\n",
    "import numpy as np"
   ]
  },
  {
   "cell_type": "code",
   "execution_count": null,
   "id": "0abe8a11",
   "metadata": {},
   "outputs": [],
   "source": [
    "cap = cv2.VideoCapture(0)\n",
    "\n",
    "while True:\n",
    "    _, frame = cap.read()\n",
    "    blurred_frame = cv2.GaussianBlur(frame, (5, 5), 1)\n",
    "    hsv = cv2.cvtColor(blurred_frame, cv2.COLOR_BGR2HSV)\n",
    "\n",
    "    lower_blue = np.array([38, 86, 0])\n",
    "    upper_blue = np.array([121, 255, 255])\n",
    "    mask = cv2.inRange(hsv, lower_blue, upper_blue)\n",
    "\n",
    "    contours, _ = cv2.findContours(mask, cv2.RETR_TREE, cv2.CHAIN_APPROX_NONE)\n",
    "\n",
    "    for contour in contours:\n",
    "\n",
    "        area = cv2.contourArea(contour)\n",
    "\n",
    "        if area > 1500:\n",
    "            cv2.drawContours(frame, contour, -1, (0, 255, 0), 2)\n",
    "\n",
    "\n",
    "    cv2.imshow(\"Frame\", frame)\n",
    "    cv2.imshow(\"Mask\", mask)\n",
    "    key = cv2.waitKey(1)\n",
    "    if key == 27:\n",
    "        break\n",
    "        \n",
    "cap.release()\n",
    "cv2.destroyAllWindows()"
   ]
  }
 ],
 "metadata": {
  "kernelspec": {
   "display_name": "Python 3 (ipykernel)",
   "language": "python",
   "name": "python3"
  },
  "language_info": {
   "codemirror_mode": {
    "name": "ipython",
    "version": 3
   },
   "file_extension": ".py",
   "mimetype": "text/x-python",
   "name": "python",
   "nbconvert_exporter": "python",
   "pygments_lexer": "ipython3",
   "version": "3.7.16"
  }
 },
 "nbformat": 4,
 "nbformat_minor": 5
}
